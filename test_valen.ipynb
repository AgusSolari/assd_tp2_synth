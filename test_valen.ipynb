{
 "cells": [
  {
   "cell_type": "code",
   "execution_count": null,
   "metadata": {},
   "outputs": [],
   "source": [
    "from mido import Message\n",
    "import pretty_midi\n",
    "import numpy as np\n",
    "import pretty_midi\n",
    "from sample_synth import sample_synthesis\n",
    "\n",
    "sample_rate = 44100\n",
    "\n",
    "def get_notes_from_track(track):\n",
    "    notes = []\n",
    "    for note in track:\n",
    "        notes.append({\n",
    "            'pitch': note.note,\n",
    "            'start': note.start,\n",
    "            'end': note.end,\n",
    "            'velocity': note.velocity,\n",
    "            'synth': []\n",
    "        })\n",
    "    return notes\n",
    "\n",
    "def synthesis (track):\n",
    "    track_notes = get_notes_from_track(track)\n",
    "    \n",
    "    min_pitch = min(note['pitch'] for note in track_notes)\n",
    "    max_pitch = max(note['pitch'] for note in track_notes)\n",
    "    max_end = max(note['end'] for note in track_notes)\n",
    "\n",
    "    for note in track_notes:\n",
    "        note['synth'] = sample_synthesis(note['pitch'],  note['velocity'], note['end'] - note['start'])\n",
    "\n",
    "    num_pitches = max_pitch - min_pitch + 1\n",
    "    num_samples = int(np.ceil(max_end))*sample_rate\n",
    "    tracks_s = np.zeros((num_pitches, num_samples))\n",
    "\n",
    "    for note in track_notes:\n",
    "        pitch = note['pitch'] - min_pitch\n",
    "        start_frame = round(note['start']*sample_rate)\n",
    "        # end_frame = int(np.ceil(note['end']*sample_rate))\n",
    "        end_frame = start_frame + len(note['synth'])\n",
    "        tracks_s[pitch, start_frame:end_frame] = note['synth']\n",
    "\n",
    "    return np.sum(tracks_s, axis=0)\n",
    "\n",
    "\n",
    "# samples = synthesis(data)"
   ]
  },
  {
   "cell_type": "code",
   "execution_count": null,
   "metadata": {},
   "outputs": [],
   "source": [
    "def procesar_midi_messages(midi_messages):\n",
    "    int_tiempos = {}\n",
    "    int_velocities = {}\n",
    "    \n",
    "    for message in midi_messages:\n",
    "        pitch = message.pitch\n",
    "        start = message.start\n",
    "        end = message.end\n",
    "        velocity = message.velocity\n",
    "        \n",
    "        if pitch not in int_tiempos:\n",
    "            int_tiempos[pitch] = []\n",
    "            int_velocities[pitch] = []\n",
    "        \n",
    "        # Añadir el intervalo de tiempo\n",
    "        int_tiempos[pitch].append([start, end])\n",
    "        \n",
    "        # Añadir la velocidad para el intervalo de tiempo\n",
    "        int_velocities[pitch].append(velocity)\n",
    "    \n",
    "    return int_tiempos, int_velocities"
   ]
  },
  {
   "cell_type": "code",
   "execution_count": null,
   "metadata": {},
   "outputs": [],
   "source": [
    "            \n",
    "mid_data_ins = pretty_midi.PrettyMIDI('midi_files/test_file.mid')\n",
    "# track = mid_data_ins.instruments[node_box[i-1]]\n",
    "            "
   ]
  }
 ],
 "metadata": {
  "kernelspec": {
   "display_name": ".venv",
   "language": "python",
   "name": "python3"
  },
  "language_info": {
   "codemirror_mode": {
    "name": "ipython",
    "version": 3
   },
   "file_extension": ".py",
   "mimetype": "text/x-python",
   "name": "python",
   "nbconvert_exporter": "python",
   "pygments_lexer": "ipython3",
   "version": "3.11.3"
  }
 },
 "nbformat": 4,
 "nbformat_minor": 2
}
