{
 "cells": [
  {
   "cell_type": "code",
   "execution_count": 4,
   "metadata": {},
   "outputs": [
    {
     "ename": "AttributeError",
     "evalue": "'list' object has no attribute 'notes'",
     "output_type": "error",
     "traceback": [
      "\u001b[1;31m---------------------------------------------------------------------------\u001b[0m",
      "\u001b[1;31mAttributeError\u001b[0m                            Traceback (most recent call last)",
      "Cell \u001b[1;32mIn[4], line 50\u001b[0m\n\u001b[0;32m     45\u001b[0m         tracks_s[pitch, start_frame:end_frame] \u001b[38;5;241m=\u001b[39m note[\u001b[38;5;124m'\u001b[39m\u001b[38;5;124msynth\u001b[39m\u001b[38;5;124m'\u001b[39m]\n\u001b[0;32m     47\u001b[0m     \u001b[38;5;28;01mreturn\u001b[39;00m np\u001b[38;5;241m.\u001b[39msum(tracks_s, axis\u001b[38;5;241m=\u001b[39m\u001b[38;5;241m0\u001b[39m)\n\u001b[1;32m---> 50\u001b[0m samples \u001b[38;5;241m=\u001b[39m \u001b[43msynthesis\u001b[49m\u001b[43m(\u001b[49m\u001b[43mdata\u001b[49m\u001b[43m)\u001b[49m\n",
      "Cell \u001b[1;32mIn[4], line 27\u001b[0m, in \u001b[0;36msynthesis\u001b[1;34m(track)\u001b[0m\n\u001b[0;32m     26\u001b[0m \u001b[38;5;28;01mdef\u001b[39;00m \u001b[38;5;21msynthesis\u001b[39m (track):\n\u001b[1;32m---> 27\u001b[0m     track_notes \u001b[38;5;241m=\u001b[39m \u001b[43mget_notes_from_track\u001b[49m\u001b[43m(\u001b[49m\u001b[43mtrack\u001b[49m\u001b[43m)\u001b[49m\n\u001b[0;32m     29\u001b[0m     min_pitch \u001b[38;5;241m=\u001b[39m \u001b[38;5;28mmin\u001b[39m(note[\u001b[38;5;124m'\u001b[39m\u001b[38;5;124mpitch\u001b[39m\u001b[38;5;124m'\u001b[39m] \u001b[38;5;28;01mfor\u001b[39;00m note \u001b[38;5;129;01min\u001b[39;00m track_notes)\n\u001b[0;32m     30\u001b[0m     max_pitch \u001b[38;5;241m=\u001b[39m \u001b[38;5;28mmax\u001b[39m(note[\u001b[38;5;124m'\u001b[39m\u001b[38;5;124mpitch\u001b[39m\u001b[38;5;124m'\u001b[39m] \u001b[38;5;28;01mfor\u001b[39;00m note \u001b[38;5;129;01min\u001b[39;00m track_notes)\n",
      "Cell \u001b[1;32mIn[4], line 16\u001b[0m, in \u001b[0;36mget_notes_from_track\u001b[1;34m(track)\u001b[0m\n\u001b[0;32m     14\u001b[0m \u001b[38;5;28;01mdef\u001b[39;00m \u001b[38;5;21mget_notes_from_track\u001b[39m(track):\n\u001b[0;32m     15\u001b[0m     notes \u001b[38;5;241m=\u001b[39m []\n\u001b[1;32m---> 16\u001b[0m     \u001b[38;5;28;01mfor\u001b[39;00m note \u001b[38;5;129;01min\u001b[39;00m \u001b[43mtrack\u001b[49m\u001b[38;5;241;43m.\u001b[39;49m\u001b[43mnotes\u001b[49m:\n\u001b[0;32m     17\u001b[0m         notes\u001b[38;5;241m.\u001b[39mappend({\n\u001b[0;32m     18\u001b[0m             \u001b[38;5;124m'\u001b[39m\u001b[38;5;124mpitch\u001b[39m\u001b[38;5;124m'\u001b[39m: note\u001b[38;5;241m.\u001b[39mpitch,\n\u001b[0;32m     19\u001b[0m             \u001b[38;5;124m'\u001b[39m\u001b[38;5;124mstart\u001b[39m\u001b[38;5;124m'\u001b[39m: note\u001b[38;5;241m.\u001b[39mstart,\n\u001b[1;32m   (...)\u001b[0m\n\u001b[0;32m     22\u001b[0m             \u001b[38;5;124m'\u001b[39m\u001b[38;5;124msynth\u001b[39m\u001b[38;5;124m'\u001b[39m: []\n\u001b[0;32m     23\u001b[0m         })\n\u001b[0;32m     24\u001b[0m     \u001b[38;5;28;01mreturn\u001b[39;00m notes\n",
      "\u001b[1;31mAttributeError\u001b[0m: 'list' object has no attribute 'notes'"
     ]
    }
   ],
   "source": [
    "from mido import Message\n",
    "import pretty_midi\n",
    "\n",
    "\n",
    "\n",
    "data = [Message('note_on', channel=0, note=60, velocity=127, time=0), Message('note_off', channel=0, note=60, velocity=64, time=0.5), Message('note_on', channel=0, note=62, velocity=127, time=0), Message('note_off', channel=0, note=62, velocity=64, time=0.5), Message('note_on', channel=0, note=64, velocity=127, time=0), Message('note_off', channel=0, note=64, velocity=64, time=0.5), Message('note_on', channel=0, note=65, velocity=127, time=0), Message('note_off', channel=0, note=65, velocity=64, time=0.5), Message('note_on', channel=0, note=67, velocity=127, time=0), Message('note_off', channel=0, note=67, velocity=64, time=0.5), Message('note_on', channel=0, note=69, velocity=127, time=0), Message('note_off', channel=0, note=69, velocity=64, time=0.5), Message('note_on', channel=0, note=71, velocity=127, time=0), Message('note_off', channel=0, note=71, velocity=64, time=0.5), Message('note_on', channel=0, note=72, velocity=127, time=0), Message('note_off', channel=0, note=72, velocity=64, time=0.5)]\n",
    "\n",
    "import numpy as np\n",
    "import pretty_midi\n",
    "from sample_synth import sample_synthesis\n",
    "\n",
    "sample_rate = 44100\n",
    "\n",
    "def get_notes_from_track(track):\n",
    "    notes = []\n",
    "    for note in track:\n",
    "        notes.append({\n",
    "            'pitch': note.note,\n",
    "            'start': note.start,\n",
    "            'end': note.end,\n",
    "            'velocity': note.velocity,\n",
    "            'synth': []\n",
    "        })\n",
    "    return notes\n",
    "\n",
    "def synthesis (track):\n",
    "    track_notes = get_notes_from_track(track)\n",
    "    \n",
    "    min_pitch = min(note['pitch'] for note in track_notes)\n",
    "    max_pitch = max(note['pitch'] for note in track_notes)\n",
    "    max_end = max(note['end'] for note in track_notes)\n",
    "\n",
    "    for note in track_notes:\n",
    "        note['synth'] = sample_synthesis(note['pitch'],  note['velocity'], note['end'] - note['start'])\n",
    "\n",
    "    num_pitches = max_pitch - min_pitch + 1\n",
    "    num_samples = int(np.ceil(max_end))*sample_rate\n",
    "    tracks_s = np.zeros((num_pitches, num_samples))\n",
    "\n",
    "    for note in track_notes:\n",
    "        pitch = note['pitch'] - min_pitch\n",
    "        start_frame = round(note['start']*sample_rate)\n",
    "        # end_frame = int(np.ceil(note['end']*sample_rate))\n",
    "        end_frame = start_frame + len(note['synth'])\n",
    "        tracks_s[pitch, start_frame:end_frame] = note['synth']\n",
    "\n",
    "    return np.sum(tracks_s, axis=0)\n",
    "\n",
    "\n",
    "samples = synthesis(data)"
   ]
  }
 ],
 "metadata": {
  "kernelspec": {
   "display_name": ".venv",
   "language": "python",
   "name": "python3"
  },
  "language_info": {
   "codemirror_mode": {
    "name": "ipython",
    "version": 3
   },
   "file_extension": ".py",
   "mimetype": "text/x-python",
   "name": "python",
   "nbconvert_exporter": "python",
   "pygments_lexer": "ipython3",
   "version": "3.11.3"
  }
 },
 "nbformat": 4,
 "nbformat_minor": 2
}
